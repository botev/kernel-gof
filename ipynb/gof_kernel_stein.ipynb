{
 "cells": [
  {
   "cell_type": "markdown",
   "metadata": {},
   "source": [
    "A notebook to test and demonstrate `KernelSteinTest`. This implements the kernelized Stein discrepancy test of Chwialkowski et al., 2016 and Liu et al., 2016 in ICML 2016."
   ]
  },
  {
   "cell_type": "code",
   "execution_count": 1,
   "metadata": {},
   "outputs": [],
   "source": [
    "%load_ext autoreload\n",
    "%autoreload 2\n",
    "%matplotlib inline\n",
    "#%config InlineBackend.figure_format = 'svg'\n",
    "#%config InlineBackend.figure_format = 'pdf'\n",
    "\n",
    "import kgof\n",
    "import kgof.data as data\n",
    "import kgof.density as density\n",
    "import kgof.goftest as gof\n",
    "import kgof.kernel as ker\n",
    "import kgof.util as util\n",
    "import matplotlib\n",
    "import matplotlib.pyplot as plt\n",
    "import numpy as np\n",
    "import scipy.stats as stats"
   ]
  },
  {
   "cell_type": "code",
   "execution_count": 2,
   "metadata": {},
   "outputs": [],
   "source": [
    "# font options\n",
    "font = {\n",
    "    #'family' : 'normal',\n",
    "    #'weight' : 'bold',\n",
    "    'size'   : 18\n",
    "}\n",
    "\n",
    "plt.rc('font', **font)\n",
    "plt.rc('lines', linewidth=2)\n",
    "matplotlib.rcParams['pdf.fonttype'] = 42\n",
    "matplotlib.rcParams['ps.fonttype'] = 42"
   ]
  },
  {
   "cell_type": "markdown",
   "metadata": {},
   "source": [
    "--------------"
   ]
  },
  {
   "cell_type": "markdown",
   "metadata": {},
   "source": [
    "## Problem: p = Isotropic normal distribution"
   ]
  },
  {
   "cell_type": "code",
   "execution_count": 5,
   "metadata": {},
   "outputs": [],
   "source": [
    "# true p\n",
    "seed = 13\n",
    "d = 15\n",
    "# sample\n",
    "n = 800\n",
    "# Type of kernel to test\n",
    "kernel = \"imq\"\n",
    "\n",
    "mean = np.zeros(d)\n",
    "variance = 1.0\n",
    "qmean = mean.copy()\n",
    "qmean[0] = 0\n",
    "qvariance = variance\n",
    "\n",
    "p = density.IsotropicNormal(mean, variance)\n",
    "# ds = data.DSIsotropicNormal(qmean, qvariance)\n",
    "ds = data.DSLaplace(d=d, loc=0, scale=1.0/np.sqrt(2))\n",
    "dat = ds.sample(n, seed=seed+1)\n",
    "X = dat.data()\n"
   ]
  },
  {
   "cell_type": "code",
   "execution_count": 17,
   "metadata": {},
   "outputs": [],
   "source": [
    "# Test\n",
    "alpha = 0.01\n",
    "\n",
    "if kernel == \"gaussian\":\n",
    "    # Gaussian kernel with median heuristic\n",
    "    sig2 = util.meddistance(X, subsample=1000)**2\n",
    "    k = ker.KGauss(sig2)\n",
    "elif kernel == \"imq\":\n",
    "    # inverse multiquadric kernel\n",
    "    # From Gorham & Mackey 2017 (https://arxiv.org/abs/1703.01717)\n",
    "    sig2 = 0.0\n",
    "    k = ker.KIMQ(b=-0.5, c=1.0)\n",
    "else:\n",
    "    raise NotImplementedError()\n",
    "\n",
    "bootstrapper = gof.bootstrapper_rademacher\n",
    "kstein = gof.KernelSteinTest(p, k, bootstrapper=bootstrapper, \n",
    "                             alpha=alpha, n_simulate=500, seed=seed+1)"
   ]
  },
  {
   "cell_type": "code",
   "execution_count": 18,
   "metadata": {
    "scrolled": true
   },
   "outputs": [
    {
     "data": {
      "text/plain": [
       "{'H': array([[ 38.83827841,   0.34770333,   1.70553943, ...,  -0.54137936,\n",
       "           1.00948598,  -0.52220225],\n",
       "        [  0.34770333,  21.26066445,  -0.51625593, ...,  -0.4529505 ,\n",
       "          -0.35426411,  -0.690389  ],\n",
       "        [  1.70553943,  -0.51625593,  32.22847572, ...,   0.29012722,\n",
       "           0.28863715,   0.54946003],\n",
       "        ..., \n",
       "        [ -0.54137936,  -0.4529505 ,   0.29012722, ...,  27.17108148,\n",
       "          -0.18235861,  -0.10964123],\n",
       "        [  1.00948598,  -0.35426411,   0.28863715, ...,  -0.18235861,\n",
       "          21.82566282,   0.15421606],\n",
       "        [ -0.52220225,  -0.690389  ,   0.54946003, ...,  -0.10964123,\n",
       "           0.15421606,  23.94362677]]),\n",
       " 'alpha': 0.01,\n",
       " 'h0_rejected': True,\n",
       " 'n_simulate': 500,\n",
       " 'pvalue': 0.0,\n",
       " 'sim_stats': array([ 30.18768353,  30.02320382,  31.875641  ,  29.55726994,\n",
       "         28.92165907,  31.09053806,  29.06907626,  29.22652701,\n",
       "         31.04035082,  31.1526692 ,  30.40392758,  28.57488903,\n",
       "         29.66988902,  28.59508371,  28.41929994,  29.82580256,\n",
       "         30.92745009,  30.21675162,  30.31452349,  28.53372787,\n",
       "         29.74440094,  29.59288344,  29.5766482 ,  29.41252414,\n",
       "         29.45009606,  30.40156052,  28.95062377,  31.12179126,\n",
       "         28.74731643,  30.03998627,  29.19367398,  31.47344406,\n",
       "         29.37730648,  29.16741867,  30.85371904,  28.40608692,\n",
       "         29.70780136,  28.82497313,  28.28016469,  31.0615112 ,\n",
       "         30.63747989,  29.13088863,  29.67803819,  30.57830159,\n",
       "         29.37392154,  30.39958295,  28.98656077,  29.19134535,\n",
       "         27.77356212,  28.90523911,  29.94159981,  29.91338484,\n",
       "         30.74437799,  31.6529666 ,  30.8114765 ,  29.6457907 ,\n",
       "         30.72517291,  28.64511901,  30.227214  ,  28.5236947 ,\n",
       "         30.30954852,  28.82318945,  31.13095988,  29.99379346,\n",
       "         29.76452721,  30.01476878,  30.25780243,  29.72813195,\n",
       "         31.37392417,  28.56855763,  30.58078062,  31.28858034,\n",
       "         29.64978776,  29.91269464,  29.29186688,  29.32386449,\n",
       "         29.13498982,  31.75842104,  28.95255918,  29.24948936,\n",
       "         29.17310042,  29.1154047 ,  32.46226623,  28.26682032,\n",
       "         29.4114904 ,  30.08949004,  30.10204473,  29.82557369,\n",
       "         29.70749516,  29.86928704,  30.10591715,  32.54895867,\n",
       "         33.25709569,  29.04777519,  29.6834576 ,  30.18649218,\n",
       "         27.7602274 ,  28.19109143,  28.87771965,  29.10573395,\n",
       "         30.33026944,  28.56173424,  29.07888072,  29.18935967,\n",
       "         29.71337159,  28.90725551,  29.66385759,  31.24561113,\n",
       "         29.15595053,  30.06889249,  31.86738721,  29.85240887,\n",
       "         29.0186285 ,  29.58743849,  29.30813028,  29.49326529,\n",
       "         30.09959121,  29.66164681,  32.0158508 ,  30.06313296,\n",
       "         30.38867319,  29.16199549,  29.51623015,  29.53928919,\n",
       "         31.50813214,  31.3134654 ,  29.28473745,  31.07474712,\n",
       "         29.653258  ,  30.21611149,  29.18295573,  32.7677323 ,\n",
       "         29.10907741,  30.37715077,  28.86605479,  30.69260855,\n",
       "         31.75278139,  30.30044584,  29.57045268,  29.81936423,\n",
       "         29.2799854 ,  28.69118522,  29.53307362,  29.93953175,\n",
       "         28.925281  ,  29.44606724,  30.51450993,  29.98930717,\n",
       "         28.64919953,  30.97807083,  30.49853364,  29.44988705,\n",
       "         30.16055304,  31.71209216,  28.3848939 ,  31.26263073,\n",
       "         28.57517466,  29.64027221,  28.81370438,  30.60779444,\n",
       "         29.92442359,  28.993414  ,  30.55542017,  29.73488384,\n",
       "         30.01582551,  29.51552906,  30.05208271,  28.40865631,\n",
       "         30.25228971,  30.39248056,  30.82078179,  30.63023946,\n",
       "         31.02554658,  30.09280246,  29.36529458,  31.55452075,\n",
       "         29.98564182,  30.78370005,  29.6000838 ,  29.16178431,\n",
       "         28.82358172,  31.0568284 ,  30.03235639,  30.0714367 ,\n",
       "         29.99231239,  30.75857497,  29.69824482,  29.07336741,\n",
       "         29.82222488,  28.82346677,  29.83338218,  29.57665144,\n",
       "         29.89330645,  29.19737317,  31.34462563,  32.44309252,\n",
       "         28.86979045,  31.15810095,  30.61250516,  29.06890745,\n",
       "         28.38513766,  28.68212888,  29.55783339,  32.41733707,\n",
       "         29.24743965,  28.85429466,  30.33845011,  31.54270957,\n",
       "         29.2339506 ,  30.3206648 ,  28.94676553,  31.21578783,\n",
       "         28.36852166,  30.49596514,  29.15250766,  30.25902898,\n",
       "         30.39743054,  31.0430735 ,  28.57015517,  30.35762706,\n",
       "         32.87618496,  29.55016094,  31.58063671,  30.05485874,\n",
       "         29.29068743,  29.87951078,  30.21761695,  29.5091319 ,\n",
       "         30.48097199,  29.37199958,  31.13205183,  29.42370758,\n",
       "         29.86581453,  31.27913714,  28.64096858,  30.751117  ,\n",
       "         30.75308871,  30.38039638,  29.93137023,  30.03226184,\n",
       "         30.36847633,  28.44734317,  29.81735919,  31.12822178,\n",
       "         29.69859112,  32.14447319,  29.72788565,  30.12641727,\n",
       "         28.6445638 ,  28.6932764 ,  29.09796495,  30.05358942,\n",
       "         31.44367539,  30.0727031 ,  30.90285042,  29.94867779,\n",
       "         30.87874905,  29.98761119,  29.24788144,  29.58964377,\n",
       "         30.11083982,  29.19013971,  31.12601193,  30.04496433,\n",
       "         29.82720555,  29.4471377 ,  30.53404337,  30.03775031,\n",
       "         29.19287154,  32.06142673,  28.81277916,  29.32206503,\n",
       "         29.11688267,  28.39372956,  29.51629079,  29.75965083,\n",
       "         32.9290051 ,  30.08639577,  29.33825465,  28.15038267,\n",
       "         28.78249319,  28.66813729,  30.6545432 ,  30.2235546 ,\n",
       "         29.25728595,  31.45413436,  29.03484777,  29.23104327,\n",
       "         28.61290766,  29.53447111,  29.88549546,  30.94201705,\n",
       "         28.59215367,  32.2771551 ,  31.78509437,  28.71966684,\n",
       "         29.02889121,  29.70276458,  31.10953648,  30.18644329,\n",
       "         30.00750051,  30.0267071 ,  29.66697249,  29.78016209,\n",
       "         30.26520966,  29.73417732,  30.41657565,  29.92918474,\n",
       "         30.49563986,  31.26386951,  29.48878337,  31.63450719,\n",
       "         30.58665635,  31.22820518,  30.79428303,  31.8276933 ,\n",
       "         31.08850957,  29.46014749,  28.5209224 ,  31.69123323,\n",
       "         29.65232097,  29.8162679 ,  29.51639622,  29.47549716,\n",
       "         31.1943483 ,  30.38634163,  30.73083302,  29.11988189,\n",
       "         28.69464663,  30.68977988,  31.07453025,  29.84581717,\n",
       "         34.76928597,  28.4079824 ,  31.58257196,  31.60361027,\n",
       "         30.8822984 ,  29.44322781,  29.67839657,  29.67731396,\n",
       "         29.71041228,  29.64473672,  29.00876437,  30.44533233,\n",
       "         28.86983899,  32.9242021 ,  30.28217491,  32.02803518,\n",
       "         32.79433984,  32.17528678,  29.00207404,  28.64888196,\n",
       "         30.60806239,  30.65256407,  29.51370227,  29.56976526,\n",
       "         29.32525718,  30.59424231,  31.21643577,  29.11986315,\n",
       "         29.95896381,  29.0462115 ,  29.53203071,  29.18154315,\n",
       "         29.37499303,  31.49506715,  29.95048564,  31.07590782,\n",
       "         29.59651082,  31.76545249,  28.62279206,  30.25898692,\n",
       "         28.85810498,  28.79668768,  28.6594956 ,  31.21181082,\n",
       "         29.67704477,  28.95134676,  31.28887958,  31.54922237,\n",
       "         30.22264984,  31.61982258,  29.31422114,  29.93255236,\n",
       "         28.76498178,  29.27448695,  29.60729824,  31.20084546,\n",
       "         29.28655809,  31.15437198,  29.64408629,  30.64100586,\n",
       "         28.5216937 ,  29.49543435,  29.33238378,  31.83155106,\n",
       "         29.19642803,  30.31172033,  28.79848521,  29.98575204,\n",
       "         29.77175175,  30.20332333,  27.57664532,  30.54418905,\n",
       "         30.62099315,  31.23338506,  29.53521649,  28.82828659,\n",
       "         30.9138462 ,  30.25624335,  29.21499486,  29.26382411,\n",
       "         29.73071771,  30.85977098,  29.20232934,  30.98794796,\n",
       "         30.22008688,  29.46190578,  29.63857182,  30.84144588,\n",
       "         31.07013876,  29.84361526,  31.37116249,  29.65023412,\n",
       "         32.07829735,  28.47722541,  32.19517103,  29.92463197,\n",
       "         30.5161906 ,  32.1062777 ,  30.24665379,  30.54799565,\n",
       "         30.19257649,  29.55219499,  30.20654104,  30.72625311,\n",
       "         30.80717615,  28.99117194,  30.19778012,  29.33498212,\n",
       "         28.90119808,  31.65111793,  30.75139519,  29.88212998,\n",
       "         29.65831195,  32.05932655,  29.23570581,  29.16893583,\n",
       "         32.56218574,  29.54411252,  28.74508944,  30.53900433,\n",
       "         30.4377107 ,  29.45583679,  29.01641443,  29.10389687,\n",
       "         29.45523384,  30.68795237,  28.02931089,  29.86921582,\n",
       "         30.77857852,  30.07316887,  29.5270221 ,  29.5149933 ,\n",
       "         30.79517965,  29.38679985,  29.30489385,  29.0114215 ,\n",
       "         30.16343881,  30.33636768,  30.96004236,  29.26190974,\n",
       "         30.95636266,  31.87883348,  29.66816298,  30.21521502,\n",
       "         29.10088489,  28.97939564,  29.37340331,  29.20471806,\n",
       "         29.9369778 ,  29.89308739,  30.28069071,  30.14550723,\n",
       "         28.90065676,  28.76295355,  29.44340783,  28.7397739 ,\n",
       "         30.788937  ,  31.74041513,  30.17676098,  29.87212917,\n",
       "         31.41535464,  32.39220488,  30.28435428,  30.94432031,\n",
       "         28.14677642,  29.99845163,  29.40527277,  29.68100118]),\n",
       " 'test_stat': 34.851802639532345,\n",
       " 'time_secs': 1.7256889343261719}"
      ]
     },
     "execution_count": 18,
     "metadata": {},
     "output_type": "execute_result"
    }
   ],
   "source": [
    "kstein_result = kstein.perform_test(dat, return_simulated_stats=True,\n",
    "                                   return_ustat_gram=True)\n",
    "kstein_result"
   ]
  },
  {
   "cell_type": "code",
   "execution_count": 19,
   "metadata": {},
   "outputs": [
    {
     "data": {
      "image/png": "[encoded data removed]",
      "text/plain": [
       "<matplotlib.figure.Figure at 0x7f5c5c0e34a8>"
      ]
     },
     "metadata": {},
     "output_type": "display_data"
    }
   ],
   "source": [
    "sim_stats = kstein_result['sim_stats']\n",
    "plt.figure(figsize=(10, 4))\n",
    "plt.hist(sim_stats, bins=20, normed=True);\n",
    "plt.stem([kstein_result['test_stat']], [0.03], 'r-o', label='Stat')\n",
    "plt.legend()\n",
    "plt.show()"
   ]
  },
  {
   "cell_type": "code",
   "execution_count": 20,
   "metadata": {},
   "outputs": [
    {
     "name": "stdout",
     "output_type": "stream",
     "text": [
      "SD = 34.8518026395\n"
     ]
    }
   ],
   "source": [
    "sd_kgof = kstein.compute_stat(dat)\n",
    "print(\"SD =\", sd_kgof)"
   ]
  },
  {
   "cell_type": "markdown",
   "metadata": {},
   "source": [
    "# Theano implementation\n",
    "by Aleksandar Botev"
   ]
  },
  {
   "cell_type": "code",
   "execution_count": 21,
   "metadata": {},
   "outputs": [],
   "source": [
    "import theano.tensor as T\n",
    "import theano\n",
    "from theano.gradient import disconnected_grad\n",
    "theano.config.floatX = \"float64\"\n",
    "theano.config.warn_float64 = \"ignore\"\n",
    "from scipy.stats import norm"
   ]
  },
  {
   "cell_type": "markdown",
   "metadata": {},
   "source": [
    "## Theano Gaussian pdf"
   ]
  },
  {
   "cell_type": "code",
   "execution_count": 22,
   "metadata": {},
   "outputs": [
    {
     "data": {
      "image/png": "[encoded data removed]",
      "text/plain": [
       "<matplotlib.figure.Figure at 0x7f5c5c078898>"
      ]
     },
     "metadata": {},
     "output_type": "display_data"
    }
   ],
   "source": [
    "def floatX(var):\n",
    "    return T.cast(var, theano.config.floatX)\n",
    "\n",
    "def log_pdf_isotropic_gaussian(x, mean, variance):\n",
    "    d = floatX(x.shape[1])\n",
    "    neg_log_pdf2 = T.sum((x - mean.dimshuffle('x', 0))**2, axis=1) / variance\n",
    "    neg_log_pdf2 += d * T.log(np.pi * 2.0)\n",
    "    neg_log_pdf2 += d * T.log(variance)\n",
    "    return - neg_log_pdf2 / 2.0\n",
    "\n",
    "def test_log_pdf():\n",
    "    x = np.linspace(np.pi - 4, np.pi + 4, 100).reshape((-1, 1))\n",
    "    mu = floatX(np.asarray([np.pi]))\n",
    "    var = floatX(np.asarray([2.0]))\n",
    "    pdf = T.exp(log_pdf_isotropic_gaussian(floatX(x), mu, var)).flatten().eval()\n",
    "    np_pdf = norm.pdf(x, np.pi, np.sqrt(2.0)).flatten()\n",
    "    plt.figure(figsize=(8, 6))\n",
    "    plt.plot(x, np_pdf - pdf, 'b')\n",
    "    plt.legend([\"$pdf_{scipy} - pdf_{Theano}$\"])\n",
    "    plt.show()\n",
    "\n",
    "test_log_pdf()"
   ]
  },
  {
   "cell_type": "markdown",
   "metadata": {},
   "source": [
    "## Function to calculate all pairwise distance in batch mode"
   ]
  },
  {
   "cell_type": "code",
   "execution_count": 23,
   "metadata": {},
   "outputs": [],
   "source": [
    "def squared_distance_matrix(x, y, return_dim3=True):\n",
    "    \"\"\"\n",
    "    Returns the matrix `M` of pairwise squared distance between x and y:\n",
    "    M_{i,j} = ||x_i - y_j||^2\n",
    "\n",
    "    If `x` or `y` are of rank 3 returns a batch of matrices.\n",
    "    This requires that x.shape[0] == y.shape[0].\n",
    "    \"\"\"\n",
    "    assert 1 < x.ndim < 4 and 1 < y.ndim < 4\n",
    "    dim2 = False\n",
    "    if x.ndim == y.ndim == 2:\n",
    "        x = T.reshape(x, (1, x.shape[0], x.shape[1]))\n",
    "        y = T.reshape(y, (1, y.shape[0], y.shape[1]))\n",
    "        dim2 = True\n",
    "    elif x.ndim == 2:\n",
    "        x = x.dimshyffle('x', 0, 1)\n",
    "    elif y.ndim == 2:\n",
    "        y = y.dimshyffle('x', 0, 1)\n",
    "\n",
    "    # A batch of collection of points\n",
    "    # B x Nx x Ny\n",
    "    x_t_y = T.batched_dot(x, y.dimshuffle(0, 2, 1))\n",
    "    # B x Nx\n",
    "    x_t_x = T.sum(x ** 2, axis=2).dimshuffle(0, 1, 'x')\n",
    "    # B x Ny\n",
    "    y_t_y = T.sum(y ** 2, axis=2).dimshuffle(0, 'x', 1)\n",
    "    # B x Nx x Ny\n",
    "    distances = x_t_x + y_t_y - 2 * x_t_y\n",
    "    if not return_dim3 and dim2:\n",
    "        return distances[0]\n",
    "    else:\n",
    "        return distances"
   ]
  },
  {
   "cell_type": "markdown",
   "metadata": {},
   "source": [
    "## Gaussian Kernel"
   ]
  },
  {
   "cell_type": "code",
   "execution_count": 24,
   "metadata": {},
   "outputs": [],
   "source": [
    "def rbf_kernel(x, y, h=\"auto\", single_h=True, max_h=100.0, get_hessian=False):\n",
    "    \"\"\"\n",
    "    Evaluates the Kernel matrix of an RBF kernel for a minibatch of\n",
    "    multiple sets of data points.\n",
    "\n",
    "    k(x,y) = exp(-||x-y||^2 / h)\n",
    "\n",
    "    :param x: Theano expression\n",
    "        Tensor of size (B x N x D) or (N x D)\n",
    "    :param y: Theano expression\n",
    "        Tensor of size (B x N x D) or (N x D)\n",
    "    :param h: Theano expression, float or \"auto\"\n",
    "        The width parameter of the kernel.\n",
    "        If \"auto\" uses the median trick. (Actually the mean of the medians across the batch).\n",
    "    :param single_h: bool\n",
    "        Whether to use single 'h' per the whole batch or a different for each slice.\n",
    "    :param max_h: Theano expression or float\n",
    "        An upper bound on h\n",
    "    :param get_hessian: bool\n",
    "        Whether to return hessian needed for Stein-Discrepancy\n",
    "    :return:\n",
    "        1. Tensor of size (B x N x N) representing the Kernel matrix.\n",
    "        2. An estimate of the log density via KDE.\n",
    "        3. An array containing only `h`.\n",
    "    \"\"\"\n",
    "    assert 1 < x.ndim < 4 and 1 < y.ndim < 4\n",
    "    # Calculate square distances\n",
    "    sqd = squared_distance_matrix(x, y)\n",
    "    # A batch of collection of points\n",
    "    b, nx, ny = sqd.shape\n",
    "\n",
    "    if h == \"auto\":\n",
    "        # The median trick\n",
    "        sorted_distances = T.sort(T.flatten(sqd, ndim=sqd.ndim-1))\n",
    "        middle = T.int_div(nx * ny, 2)\n",
    "        cond = T.mod(nx * ny, 2)\n",
    "        # Calculate medians per data point\n",
    "        med1 = (sorted_distances[:, middle] + sorted_distances[:, middle + 1]) / 2.0\n",
    "        med2 = sorted_distances[:, middle + 1]\n",
    "        if single_h:\n",
    "            # The same bandwidth for the whole batch - mean\n",
    "            med1 = T.mean(med1)\n",
    "            med2 = T.mean(med2)\n",
    "        med = T.switch(cond, med1, med2)\n",
    "        h = med / T.log(T.sqrt(floatX(nx * ny)) + 1.0)\n",
    "        h = T.minimum(h, max_h)\n",
    "    # Expanded h\n",
    "    h_e = h if single_h else h.dimshuffle(0, 'x', 'x')\n",
    "    if get_hessian:\n",
    "        h_e = disconnected_grad(h_e)\n",
    "    # The actual Kernel matrix\n",
    "    k = T.exp(- sqd / h_e)\n",
    "    # Normalization factor\n",
    "    log_z = (T.log(np.pi) + T.log(h)) * floatX(x.shape[-1]) / 2.0\n",
    "    # Expanded log_z\n",
    "    log_z_e = log_z if single_h else log_z.dimshuffle(0, 'x')\n",
    "    # Log KDE\n",
    "    log_kde = T.log(T.mean(k, axis=-1)) - log_z_e\n",
    "    if get_hessian:\n",
    "        hk = 2.0 * k * (floatX(x.shape[-1]) - 2.0 * sqd / h_e) / h_e\n",
    "        return k, hk, [h]\n",
    "    else:\n",
    "        return k, log_kde, [h]"
   ]
  },
  {
   "cell_type": "markdown",
   "metadata": {},
   "source": [
    "## IMQ Kernel"
   ]
  },
  {
   "cell_type": "code",
   "execution_count": 25,
   "metadata": {},
   "outputs": [],
   "source": [
    "def imq_kernel(x, y, b=-0.5, c=1.0, get_hessian=False):\n",
    "    \"\"\"\n",
    "    Evaluates the Kernel matrix of an IMQ kernel for a minibatch of\n",
    "    multiple sets of data points.\n",
    "    \n",
    "    k(x,y) = (||x-y||^2 + c^2)^b \n",
    "\n",
    "    :param x: Theano expression\n",
    "        Tensor of size (B x N x D) or (N x D)\n",
    "    :param y: Theano expression\n",
    "        Tensor of size (B x N x D) or (N x D)\n",
    "    :param b: Theano expression or float\n",
    "    :param c: Theano expression or float\n",
    "    :param get_hessian: bool\n",
    "        Whether to return hessian needed for Stein-Discrepancy\n",
    "    :return:\n",
    "        1. Tensor of size (B x N x N) representing the Kernel matrix.\n",
    "        2. An estimate of the log density via KDE.\n",
    "        3. An array containing only `h`.\n",
    "    \"\"\"\n",
    "    if isinstance(b, float):\n",
    "        b = T.constant(b)\n",
    "    if isinstance(c, float):\n",
    "        c = T.constant(c)\n",
    "    assert 1 < x.ndim < 4 and 1 < y.ndim < 4\n",
    "    # Calculate square distances\n",
    "    sqd = squared_distance_matrix(x, y)\n",
    "    # A batch of collection of points\n",
    "    batch, nx, ny = sqd.shape\n",
    "    \n",
    "    # The actual Kernel matrix\n",
    "    term = sqd + c**2 \n",
    "    k = T.pow(term, b)\n",
    "    # Normalization factor\n",
    "    # log_z = (T.log(np.pi) + T.log(h)) * floatX(x.shape[-1]) / 2.0\n",
    "    # Expanded log_z\n",
    "    # log_z_e = log_z if single_h else log_z.dimshuffle(0, 'x')\n",
    "    # Log KDE\n",
    "    # log_kde = T.log(T.mean(k, axis=-1)) - log_z_e\n",
    "    if get_hessian:\n",
    "        D = floatX(x.shape[-1])\n",
    "        hk = 2 * b * T.pow(term, b-2) * (sqd * (2 - 2*b - D) - D * c **2)\n",
    "        return k, hk, [b, c]\n",
    "    else:\n",
    "        return k, log_kde, [h]"
   ]
  },
  {
   "cell_type": "markdown",
   "metadata": {},
   "source": [
    "## Stein Discrepancy"
   ]
  },
  {
   "cell_type": "code",
   "execution_count": 26,
   "metadata": {},
   "outputs": [],
   "source": [
    "def stein_discrepancy(x, grad_x, biased, kernel, **k_args):\n",
    "    \"\"\" Assumes that the data is a 3D tensor for computing batches of SD \"\"\"\n",
    "    assert x.ndim == grad_x.ndim\n",
    "    if x.ndim == 2:\n",
    "        grad_x = T.reshape(grad_x, (1, x.shape[0], x.shape[1]))\n",
    "        x = T.reshape(x, (1, x.shape[0], x.shape[1]))\n",
    "        \n",
    "    # B x N x D\n",
    "    grad_x = disconnected_grad(grad_x)\n",
    "    b, n, d = x.shape\n",
    "    # N x N\n",
    "    mask = T.ones((n, n)) - T.eye(n)\n",
    "    n = floatX(n)\n",
    "    d = floatX(d)\n",
    "    # B x N x N, B x N x N, scalar\n",
    "    kxx, hk, params = kernel(x, x, get_hessian=True, **k_args)\n",
    "    # B x N x N\n",
    "    sx_sx = T.batched_dot(grad_x, grad_x.dimshuffle(0, 2, 1))\n",
    "    # A\n",
    "    if biased:\n",
    "        term1 = T.mean(kxx * sx_sx, axis=(1, 2))\n",
    "    else:\n",
    "        term1 = T.mean(kxx * sx_sx * mask.dimshuffle('x', 0, 1), axis=(1, 2))\n",
    "\n",
    "    # B\n",
    "    term2 = - T.mean(grad_x * T.grad(T.sum(kxx), x, consider_constant=params), axis=(1, 2)) / 2.0\n",
    "    term2 *= d / n\n",
    "    # C\n",
    "    term3 = term2\n",
    "    # D\n",
    "    if biased:\n",
    "        term4 = T.mean(hk, axis=(1, 2))\n",
    "    else:\n",
    "        term4 = T.mean(hk * mask.dimshuffle('x', 0, 1), axis=(1, 2))\n",
    "    sd = (term1 + term2 + term3 + term4)\n",
    "    if not biased:\n",
    "        sd *= n / (n - 1)\n",
    "    # sd = theano_print_values(sd, \"sd\")\n",
    "    return sd.mean()"
   ]
  },
  {
   "cell_type": "markdown",
   "metadata": {},
   "source": [
    "## Convert things to the Theano implementation"
   ]
  },
  {
   "cell_type": "code",
   "execution_count": 27,
   "metadata": {
    "scrolled": false
   },
   "outputs": [
    {
     "name": "stdout",
     "output_type": "stream",
     "text": [
      "(800, 15) (800, 15)\n"
     ]
    }
   ],
   "source": [
    "h = 2.0 * floatX(sig2)\n",
    "mu = floatX(mean)\n",
    "var = floatX(variance)\n",
    "x = floatX(dat.X)\n",
    "log_pdf = log_pdf_isotropic_gaussian(x, mu, var)\n",
    "grad_x = T.grad(T.sum(log_pdf), x)\n",
    "print(x.eval().shape, grad_x.eval().shape)"
   ]
  },
  {
   "cell_type": "markdown",
   "metadata": {},
   "source": [
    "## Computing Stein Discrepancy (Biased)"
   ]
  },
  {
   "cell_type": "code",
   "execution_count": 28,
   "metadata": {
    "scrolled": false
   },
   "outputs": [
    {
     "name": "stdout",
     "output_type": "stream",
     "text": [
      "Biased:\n",
      "Theano SD = 34.851802639534476\n",
      "Kgof SD = 34.8518026395\n",
      "Difference = 2.13162820728e-12\n",
      "Unbiased:\n",
      "Theano SD = 4.860535808445101\n",
      "Kgof SD = 34.8518026395\n",
      "Difference = -29.9912668311\n"
     ]
    }
   ],
   "source": [
    "if kernel == \"gauss\":\n",
    "    k = rbf_kernel\n",
    "    k_args = dict(h=h)\n",
    "elif kernel == \"imq\":\n",
    "    k = imq_kernel\n",
    "    k_args = dict()\n",
    "else:\n",
    "    raise NotImplementedError()\n",
    "sd_biased = stein_discrepancy(x, grad_x, True, k, **k_args).eval()\n",
    "sd_unbiased = stein_discrepancy(x, grad_x, False, k, **k_args).eval()\n",
    "sd_biased *= x.shape[0].eval()\n",
    "sd_unbiased *= x.shape[0].eval()\n",
    "print(\"Biased:\")\n",
    "print(\"Theano SD =\", sd_biased)\n",
    "print(\"Kgof SD =\", sd_kgof)\n",
    "print(\"Difference =\", sd_biased - sd_kgof)\n",
    "print(\"Unbiased:\")\n",
    "print(\"Theano SD =\", sd_unbiased)\n",
    "print(\"Kgof SD =\", sd_kgof)\n",
    "print(\"Difference =\", sd_unbiased - sd_kgof)"
   ]
  },
  {
   "cell_type": "markdown",
   "metadata": {},
   "source": [
    "## Test original implementation\n",
    "\n",
    "Original implementation of Chwialkowski et al., 2016"
   ]
  },
  {
   "cell_type": "code",
   "execution_count": null,
   "metadata": {},
   "outputs": [],
   "source": [
    "from scipy.spatial.distance import squareform, pdist\n",
    "\n",
    "def simulatepm(N, p_change):\n",
    "    '''\n",
    "\n",
    "    :param N:\n",
    "    :param p_change:\n",
    "    :return:\n",
    "    '''\n",
    "    X = np.zeros(N) - 1\n",
    "    change_sign = np.random.rand(N) < p_change\n",
    "    for i in range(N):\n",
    "        if change_sign[i]:\n",
    "            X[i] = -X[i - 1]\n",
    "        else:\n",
    "            X[i] = X[i - 1]\n",
    "    return X\n",
    "\n",
    "\n",
    "class _GoodnessOfFitTest:\n",
    "    def __init__(self, grad_log_prob, scaling=1):\n",
    "        #scaling is the sigma^2 as in exp(-|x_y|^2/2*sigma^2)\n",
    "        self.scaling = scaling*2\n",
    "        self.grad = grad_log_prob\n",
    "        # construct (slow) multiple gradient handle if efficient one is not given\n",
    "        \n",
    "\n",
    "    def grad_multiple(self, X):\n",
    "        #print self.grad\n",
    "        return np.array([(self.grad)(x) for x in X])\n",
    "    \n",
    "    def kernel_matrix(self, X):\n",
    "\n",
    "        # check for stupid mistake\n",
    "        assert X.shape[0] > X.shape[1]\n",
    "\n",
    "        sq_dists = squareform(pdist(X, 'sqeuclidean'))\n",
    "\n",
    "        K = np.exp(-sq_dists/ self.scaling)\n",
    "        return K\n",
    "\n",
    "    def gradient_k_wrt_x(self, X, K, dim):\n",
    "\n",
    "        X_dim = X[:, dim]\n",
    "        assert X_dim.ndim == 1\n",
    "\n",
    "        differences = X_dim.reshape(len(X_dim), 1) - X_dim.reshape(1, len(X_dim))\n",
    "\n",
    "        return -2.0 / self.scaling * K * differences\n",
    "\n",
    "    def gradient_k_wrt_y(self, X, K, dim):\n",
    "        return -self.gradient_k_wrt_x(X, K, dim)\n",
    "\n",
    "    def second_derivative_k(self, X, K, dim):\n",
    "        X_dim = X[:, dim]\n",
    "        assert X_dim.ndim == 1\n",
    "\n",
    "        differences = X_dim.reshape(len(X_dim), 1) - X_dim.reshape(1, len(X_dim))\n",
    "\n",
    "        sq_differences = differences ** 2\n",
    "\n",
    "        return 2.0 * K * (self.scaling - 2 * sq_differences) / self.scaling ** 2\n",
    "\n",
    "    def get_statistic_multiple_dim(self, samples, dim):\n",
    "        num_samples = len(samples)\n",
    "\n",
    "        log_pdf_gradients = self.grad_multiple(samples)\n",
    "        # n x 1\n",
    "        log_pdf_gradients = log_pdf_gradients[:, dim]\n",
    "        # n x n\n",
    "        K = self.kernel_matrix(samples)\n",
    "        assert K.shape[0]==K.shape[1]\n",
    "        # n x n\n",
    "        gradient_k_x = self.gradient_k_wrt_x(samples, K, dim)\n",
    "        assert gradient_k_x.shape[0] == gradient_k_x.shape[1]\n",
    "        # n x n\n",
    "        gradient_k_y = self.gradient_k_wrt_y(samples, K, dim)\n",
    "        # n x n \n",
    "        second_derivative = self.second_derivative_k(samples, K, dim)\n",
    "        assert second_derivative.shape[0] == second_derivative.shape[1]\n",
    "\n",
    "        # use broadcasting to mimic the element wise looped call\n",
    "        pairwise_log_gradients = log_pdf_gradients.reshape(num_samples, 1) \\\n",
    "                                 * log_pdf_gradients.reshape(1, num_samples)\n",
    "        A = pairwise_log_gradients * K\n",
    "\n",
    "        B = gradient_k_x * log_pdf_gradients\n",
    "        C = (gradient_k_y.T * log_pdf_gradients).T\n",
    "        D = second_derivative\n",
    "\n",
    "        V_statistic = A + B + C + D\n",
    "        #V_statistic =  C\n",
    "\n",
    "        stat = num_samples * np.mean(V_statistic)\n",
    "        return V_statistic, stat\n",
    "\n",
    "    def compute_pvalues_for_processes(self, U_matrix, chane_prob, num_bootstrapped_stats=300):\n",
    "        N = U_matrix.shape[0]\n",
    "        bootsraped_stats = np.zeros(num_bootstrapped_stats)\n",
    "\n",
    "        with util.NumpySeedContext(seed=10):\n",
    "            for proc in range(num_bootstrapped_stats):\n",
    "                # W = np.sign(orsetinW[:,proc])\n",
    "                W = simulatepm(N, chane_prob)\n",
    "                WW = np.outer(W, W)\n",
    "                st = np.mean(U_matrix * WW)\n",
    "                bootsraped_stats[proc] = N * st\n",
    "\n",
    "        stat = N * np.mean(U_matrix)\n",
    "\n",
    "        return float(np.sum(bootsraped_stats > stat)) / num_bootstrapped_stats\n",
    "\n",
    "    def is_from_null(self, alpha, samples, chane_prob):\n",
    "        dims = samples.shape[1]\n",
    "        boots = 10 * int(dims / alpha)\n",
    "        num_samples = samples.shape[0]\n",
    "        U = np.zeros((num_samples, num_samples))\n",
    "        for dim in range(dims):\n",
    "            U2, _ = self.get_statistic_multiple_dim(samples, dim)\n",
    "            U += U2\n",
    "\n",
    "        p = self.compute_pvalues_for_processes(U, chane_prob, boots)\n",
    "        return p, U\n",
    " \n"
   ]
  },
  {
   "cell_type": "code",
   "execution_count": null,
   "metadata": {
    "scrolled": true
   },
   "outputs": [],
   "source": [
    "#sigma = np.array([[1, 0.2, 0.1], [0.2, 1, 0.4], [0.1, 0.4, 1]])\n",
    "def grad_log_correleted(x):\n",
    "    #sigmaInv = np.linalg.inv(sigma)\n",
    "    #return - np.dot(sigmaInv.T + sigmaInv, x) / 2.0\n",
    "    return -(x-mean)/variance\n",
    "\n",
    "#me = _GoodnessOfFitTest(grad_log_correleted)\n",
    "\n",
    "qm = _GoodnessOfFitTest(grad_log_correleted, scaling=sig2)\n",
    "#X = np.random.multivariate_normal([0, 0, 0], sigma, 200)\n",
    "\n",
    "p_val, U = qm.is_from_null(0.05, X, 0.1)\n",
    "print(p_val)\n"
   ]
  },
  {
   "cell_type": "code",
   "execution_count": null,
   "metadata": {
    "scrolled": true
   },
   "outputs": [],
   "source": [
    "plt.imshow(U, interpolation='none')\n",
    "plt.colorbar()"
   ]
  },
  {
   "cell_type": "code",
   "execution_count": null,
   "metadata": {},
   "outputs": [],
   "source": [
    "# U-statistic matrix from the new implementation\n",
    "H = kstein_result['H']\n",
    "plt.imshow(H, interpolation='none')\n",
    "plt.colorbar()"
   ]
  },
  {
   "cell_type": "code",
   "execution_count": null,
   "metadata": {},
   "outputs": [],
   "source": [
    "plt.imshow(U-H, interpolation='none')\n",
    "plt.colorbar()"
   ]
  },
  {
   "cell_type": "markdown",
   "metadata": {},
   "source": [
    "### "
   ]
  },
  {
   "cell_type": "code",
   "execution_count": null,
   "metadata": {},
   "outputs": [],
   "source": [
    "x = np.random.randint(1, 5, 5)\n",
    "y = np.random.randint(1, 3, 3)"
   ]
  },
  {
   "cell_type": "code",
   "execution_count": null,
   "metadata": {},
   "outputs": [],
   "source": [
    "x"
   ]
  },
  {
   "cell_type": "code",
   "execution_count": null,
   "metadata": {},
   "outputs": [],
   "source": [
    "y"
   ]
  },
  {
   "cell_type": "code",
   "execution_count": null,
   "metadata": {},
   "outputs": [],
   "source": [
    "x[:, np.newaxis] - y[np.newaxis, :]"
   ]
  },
  {
   "cell_type": "code",
   "execution_count": null,
   "metadata": {},
   "outputs": [],
   "source": []
  },
  {
   "cell_type": "code",
   "execution_count": null,
   "metadata": {},
   "outputs": [],
   "source": []
  },
  {
   "cell_type": "code",
   "execution_count": null,
   "metadata": {},
   "outputs": [],
   "source": []
  }
 ],
 "metadata": {
  "kernelspec": {
   "display_name": "Python 3",
   "language": "python",
   "name": "python3"
  },
  "language_info": {
   "codemirror_mode": {
    "name": "ipython",
    "version": 3
   },
   "file_extension": ".py",
   "mimetype": "text/x-python",
   "name": "python",
   "nbconvert_exporter": "python",
   "pygments_lexer": "ipython3",
   "version": "3.6.3"
  }
 },
 "nbformat": 4,
 "nbformat_minor": 1
}
