{
 "cells": [
  {
   "cell_type": "markdown",
   "metadata": {},
   "source": [
    "A notebook to test and demonstrate `KernelSteinTest`. This implements the kernelized Stein discrepancy test of Chwialkowski et al., 2016 and Liu et al., 2016 in ICML 2016."
   ]
  },
  {
   "cell_type": "code",
   "execution_count": 1,
   "metadata": {},
   "outputs": [],
   "source": [
    "%load_ext autoreload\n",
    "%autoreload 2\n",
    "%matplotlib inline\n",
    "#%config InlineBackend.figure_format = 'svg'\n",
    "#%config InlineBackend.figure_format = 'pdf'\n",
    "\n",
    "import kgof\n",
    "import kgof.data as data\n",
    "import kgof.density as density\n",
    "import kgof.goftest as gof\n",
    "import kgof.kernel as ker\n",
    "import kgof.util as util\n",
    "import matplotlib\n",
    "import matplotlib.pyplot as plt\n",
    "import numpy as np\n",
    "import scipy.stats as stats"
   ]
  },
  {
   "cell_type": "code",
   "execution_count": 2,
   "metadata": {},
   "outputs": [],
   "source": [
    "# font options\n",
    "font = {\n",
    "    #'family' : 'normal',\n",
    "    #'weight' : 'bold',\n",
    "    'size'   : 18\n",
    "}\n",
    "\n",
    "plt.rc('font', **font)\n",
    "plt.rc('lines', linewidth=2)\n",
    "matplotlib.rcParams['pdf.fonttype'] = 42\n",
    "matplotlib.rcParams['ps.fonttype'] = 42"
   ]
  },
  {
   "cell_type": "markdown",
   "metadata": {},
   "source": [
    "--------------"
   ]
  },
  {
   "cell_type": "markdown",
   "metadata": {},
   "source": [
    "## Problem: p = Isotropic normal distribution"
   ]
  },
  {
   "cell_type": "code",
   "execution_count": 3,
   "metadata": {},
   "outputs": [],
   "source": [
    "# true p\n",
    "seed = 13\n",
    "d = 15\n",
    "# sample\n",
    "n = 800\n",
    "\n",
    "mean = np.zeros(d)\n",
    "variance = 1.0\n",
    "qmean = mean.copy()\n",
    "qmean[0] = 0\n",
    "qvariance = variance\n",
    "\n",
    "p = density.IsotropicNormal(mean, variance)\n",
    "# ds = data.DSIsotropicNormal(qmean, qvariance)\n",
    "ds = data.DSLaplace(d=d, loc=0, scale=1.0/np.sqrt(2))\n",
    "dat = ds.sample(n, seed=seed+1)\n",
    "X = dat.data()"
   ]
  },
  {
   "cell_type": "code",
   "execution_count": 4,
   "metadata": {},
   "outputs": [],
   "source": [
    "# Test\n",
    "alpha = 0.01\n",
    "\n",
    "# Gaussian kernel with median heuristic\n",
    "sig2 = util.meddistance(X, subsample=1000)**2\n",
    "k = ker.KGauss(sig2)\n",
    "\n",
    "# inverse multiquadric kernel\n",
    "# From Gorham & Mackey 2017 (https://arxiv.org/abs/1703.01717)\n",
    "# k = ker.KIMQ(b=-0.5, c=1.0)\n",
    "\n",
    "bootstrapper = gof.bootstrapper_rademacher\n",
    "kstein = gof.KernelSteinTest(p, k, bootstrapper=bootstrapper, \n",
    "                             alpha=alpha, n_simulate=500, seed=seed+1)"
   ]
  },
  {
   "cell_type": "code",
   "execution_count": 5,
   "metadata": {
    "scrolled": true
   },
   "outputs": [
    {
     "data": {
      "text/plain": [
       "{'H': array([[ 24.3955048 ,   1.16429402,   5.53141856, ...,  -1.79440993,\n",
       "           3.30543938,  -1.72950896],\n",
       "        [  1.16429402,   6.81789084,  -1.63632022, ...,  -1.35011428,\n",
       "          -0.95864353,  -2.08752081],\n",
       "        [  5.53141856,  -1.63632022,  17.78570211, ...,   0.98097489,\n",
       "           1.02091464,   1.84777165],\n",
       "        ..., \n",
       "        [ -1.79440993,  -1.35011428,   0.98097489, ...,  12.72830787,\n",
       "          -0.46460985,  -0.24953094],\n",
       "        [  3.30543938,  -0.95864353,   1.02091464, ...,  -0.46460985,\n",
       "           7.38288921,   0.57255429],\n",
       "        [ -1.72950896,  -2.08752081,   1.84777165, ...,  -0.24953094,\n",
       "           0.57255429,   9.50085316]]),\n",
       " 'alpha': 0.01,\n",
       " 'h0_rejected': False,\n",
       " 'n_simulate': 500,\n",
       " 'pvalue': 0.028000000000000001,\n",
       " 'sim_stats': array([ 16.48380754,  16.52109459,  21.14538946,  13.87290867,\n",
       "         11.76535421,  18.57220372,  12.92543967,  12.75464791,\n",
       "         18.60970128,  18.79292537,  16.77670433,  11.35565248,\n",
       "         14.83265696,  11.69112623,  10.83572013,  15.1848686 ,\n",
       "         19.48990173,  16.04581488,  15.66674148,  11.38021019,\n",
       "         14.93034028,  13.73671398,  14.33520955,  14.05731035,\n",
       "         13.62645841,  17.27548706,  12.21989256,  18.70710968,\n",
       "         11.25871037,  15.2947568 ,  12.65672425,  19.89060946,\n",
       "         13.53151768,  13.24999355,  18.30410133,  11.16573509,\n",
       "         14.63905136,  12.35230341,  10.73982373,  18.94131582,\n",
       "         18.20141698,  13.30731178,  15.24188674,  17.48345398,\n",
       "         13.01108716,  16.01981761,  12.63578367,  13.51536122,\n",
       "          9.6454287 ,  11.84358313,  14.69974494,  15.49061414,\n",
       "         17.67434342,  20.92867148,  18.15953568,  14.36918152,\n",
       "         18.95011114,  11.62005447,  16.16539141,  10.64580967,\n",
       "         16.28358712,  11.88779928,  19.35307875,  15.61503358,\n",
       "         14.30911631,  15.38641469,  16.41782042,  14.7007707 ,\n",
       "         19.39324868,  10.9403154 ,  17.33733148,  19.54075558,\n",
       "         14.79723281,  15.67255081,  13.36282167,  12.81701597,\n",
       "         12.49780488,  20.33285675,  12.01524887,  13.92032855,\n",
       "         13.2841426 ,  13.00565069,  22.82869165,  10.59318538,\n",
       "         13.25179573,  16.05246567,  16.49604028,  14.70933216,\n",
       "         14.44336891,  14.79092729,  15.77385865,  22.99964399,\n",
       "         24.55686232,  12.86197447,  14.37852758,  16.67225114,\n",
       "          9.35717171,   9.54077291,  12.0271204 ,  12.8124143 ,\n",
       "         17.26432486,  11.43694751,  12.8350209 ,  13.3021918 ,\n",
       "         14.79999755,  12.01566951,  14.71762717,  18.76194048,\n",
       "         13.20320801,  15.92698823,  21.29598377,  15.17069635,\n",
       "         13.36236051,  14.2774354 ,  13.16722637,  14.09635586,\n",
       "         15.98844579,  14.40453815,  21.69255683,  15.72150489,\n",
       "         16.61427454,  13.67990033,  13.95022997,  13.71599527,\n",
       "         20.58383686,  19.41080224,  13.38658749,  18.13748026,\n",
       "         14.5471877 ,  16.30420192,  13.02677675,  23.37088154,\n",
       "         13.15652302,  16.41954744,  11.07522264,  17.91025146,\n",
       "         20.92386397,  16.37236592,  14.17968063,  14.70424512,\n",
       "         13.49500487,  11.4072962 ,  13.97220434,  15.42934533,\n",
       "         12.1975914 ,  14.05034622,  17.40993009,  15.0401157 ,\n",
       "         11.3522844 ,  18.08349083,  17.03843093,  14.40768055,\n",
       "         16.39992316,  20.4339851 ,  10.24102583,  19.16543294,\n",
       "         11.43383045,  14.5579753 ,  11.88411794,  17.51693313,\n",
       "         15.60785705,  12.70120494,  17.61151055,  14.61680644,\n",
       "         15.55409239,  14.2880444 ,  15.70820397,  11.11155794,\n",
       "         15.83924979,  17.00871209,  18.25387659,  17.04546537,\n",
       "         19.01450302,  16.29515124,  14.28681826,  19.89416683,\n",
       "         15.18753246,  18.30928219,  14.12903082,  13.36869614,\n",
       "         11.95267062,  19.30257684,  16.00479195,  16.66234724,\n",
       "         15.54362007,  17.58227106,  15.39437966,  11.72930428,\n",
       "         14.8685165 ,  11.89631477,  14.74930108,  14.32161714,\n",
       "         15.17254916,  13.04351469,  19.19901819,  22.95213491,\n",
       "         12.45391472,  19.62736021,  17.22555429,  12.4713491 ,\n",
       "         11.29356266,  11.79491894,  13.62735106,  23.89316584,\n",
       "         12.93524577,  12.34357789,  16.81298147,  19.99310809,\n",
       "         13.6321053 ,  17.01032328,  12.30246066,  19.72487545,\n",
       "         10.71032032,  16.61866518,  13.28567273,  16.05051958,\n",
       "         16.70152193,  18.39002896,  10.91818363,  16.51247519,\n",
       "         24.51222128,  14.18579754,  20.37960369,  16.01363306,\n",
       "         13.25266463,  15.14169717,  16.93325111,  14.50315879,\n",
       "         16.72274365,  13.93413613,  19.56518013,  14.56419256,\n",
       "         14.91898287,  19.93222456,  10.59657327,  18.07450027,\n",
       "         17.43070687,  17.13092351,  14.97219633,  15.91303539,\n",
       "         16.33521364,  11.16831121,  14.95725689,  18.58818524,\n",
       "         14.72824073,  22.12853388,  15.71682207,  16.20401011,\n",
       "         11.8458441 ,  11.57849555,  12.33633085,  15.71444666,\n",
       "         20.1635613 ,  15.89148679,  18.22518215,  15.38404446,\n",
       "         18.40726964,  15.14596708,  12.8797036 ,  14.9786684 ,\n",
       "         15.70916614,  13.40163544,  18.17292281,  14.86634192,\n",
       "         14.93028829,  13.97164901,  17.13882435,  15.98919943,\n",
       "         13.38150447,  21.95840474,  12.00433535,  14.3199498 ,\n",
       "         13.14662582,  10.81187605,  13.91330041,  14.73591955,\n",
       "         24.87657767,  16.15967977,  13.74876993,  10.1614373 ,\n",
       "         12.36482542,  11.40952695,  17.6513487 ,  16.55944982,\n",
       "         13.02271472,  20.13709276,  11.90510096,  12.74345628,\n",
       "         11.97980473,  14.45972885,  15.01026998,  17.74439093,\n",
       "         11.79479091,  22.05207933,  21.42457505,  11.75319895,\n",
       "         11.63892535,  14.86113211,  18.78140688,  16.54368867,\n",
       "         15.76190367,  15.83285602,  14.64835507,  15.39104911,\n",
       "         16.11417611,  15.00518619,  15.80831675,  15.50419222,\n",
       "         17.61132988,  20.04472516,  14.36852642,  20.81869667,\n",
       "         16.91149022,  19.263253  ,  17.72956854,  21.19885451,\n",
       "         18.65620072,  13.69412617,  11.91733057,  20.85588015,\n",
       "         14.8895268 ,  14.56922059,  14.04324242,  14.22469372,\n",
       "         18.79099577,  15.82463815,  17.89780734,  12.72261615,\n",
       "         11.45139348,  18.35793471,  18.43091818,  15.44578755,\n",
       "         30.18256982,  10.95612523,  20.33107622,  19.77798634,\n",
       "         18.40536668,  13.31843269,  14.01974934,  13.9679223 ,\n",
       "         14.82436391,  15.01224855,  12.97001477,  17.31151952,\n",
       "         12.09974438,  24.09534272,  16.73574959,  21.71443538,\n",
       "         24.35292751,  21.62343406,  12.50835153,  11.81437916,\n",
       "         18.23561361,  17.16515581,  14.22040593,  14.21521551,\n",
       "         13.52919059,  17.33541213,  18.63628756,  12.34146941,\n",
       "         15.92880936,  12.39738811,  14.64063118,  13.54454729,\n",
       "         13.4821004 ,  20.29079252,  15.86564569,  18.55782151,\n",
       "         14.50327626,  20.39929332,  11.26570269,  16.58098519,\n",
       "         12.58435931,  11.88452562,  11.06888796,  19.16605424,\n",
       "         14.20970687,  12.78442028,  19.23573893,  20.26277019,\n",
       "         16.34384542,  21.14225263,  13.97454907,  14.66638314,\n",
       "         11.93960964,  13.9998743 ,  14.60265586,  19.52598084,\n",
       "         13.67618874,  19.21441774,  14.56787451,  17.39416688,\n",
       "         10.66354016,  14.16745554,  13.94414439,  21.59419485,\n",
       "         13.05394978,  16.22658369,  12.29723633,  15.55893538,\n",
       "         15.07365756,  16.02579224,   8.55259135,  16.7188073 ,\n",
       "         18.32693951,  19.19146738,  14.38056676,  11.74315821,\n",
       "         18.22639937,  16.72311296,  13.95029948,  13.50204648,\n",
       "         15.01199537,  18.10978308,  13.32892308,  18.12483578,\n",
       "         16.03119216,  13.8108786 ,  14.93250972,  17.48592302,\n",
       "         17.92086431,  14.45489114,  20.08640068,  14.99845353,\n",
       "         21.70806863,  11.07435898,  22.44686915,  15.30974875,\n",
       "         17.02540955,  21.22126853,  16.2264512 ,  17.65293466,\n",
       "         16.45345764,  14.71402934,  15.68561925,  18.08427202,\n",
       "         17.30549246,  12.60733552,  16.24093076,  14.29102209,\n",
       "         12.49928214,  20.17791017,  17.8882978 ,  14.78241839,\n",
       "         14.93210158,  21.38401251,  13.12178304,  13.40857153,\n",
       "         23.56827412,  13.72198079,  11.23667851,  17.86241062,\n",
       "         16.68029739,  14.48754856,  12.63703221,  12.88515084,\n",
       "         13.92116382,  17.73241278,   9.30404974,  15.19618152,\n",
       "         18.36219042,  16.48350123,  13.79831337,  13.94165992,\n",
       "         18.25156562,  13.97416109,  13.57656369,  12.87892239,\n",
       "         15.87460694,  16.10498789,  18.06629496,  13.17179011,\n",
       "         18.1837929 ,  20.47682125,  14.55188315,  16.13027039,\n",
       "         13.23351262,  12.70086208,  13.54638007,  13.27731523,\n",
       "         15.84348415,  15.61751502,  16.52196009,  15.97511152,\n",
       "         12.42437155,  12.10686281,  14.132286  ,  11.5853373 ,\n",
       "         18.02692332,  21.20948461,  16.11706512,  15.50388998,\n",
       "         19.93150628,  22.51081468,  15.68551167,  18.76977117,\n",
       "         10.36250677,  15.27995184,  13.40994667,  14.42601745]),\n",
       " 'test_stat': 22.439633355603775,\n",
       " 'time_secs': 0.8614497184753418}"
      ]
     },
     "execution_count": 5,
     "metadata": {},
     "output_type": "execute_result"
    }
   ],
   "source": [
    "kstein_result = kstein.perform_test(dat, return_simulated_stats=True,\n",
    "                                   return_ustat_gram=True)\n",
    "kstein_result"
   ]
  },
  {
   "cell_type": "code",
   "execution_count": 6,
   "metadata": {},
   "outputs": [
    {
     "data": {
      "image/png": "[encoded data removed]",
      "text/plain": [
       "<matplotlib.figure.Figure at 0x7fe79e0bc400>"
      ]
     },
     "metadata": {},
     "output_type": "display_data"
    }
   ],
   "source": [
    "sim_stats = kstein_result['sim_stats']\n",
    "plt.figure(figsize=(10, 4))\n",
    "plt.hist(sim_stats, bins=20, normed=True);\n",
    "plt.stem([kstein_result['test_stat']], [0.03], 'r-o', label='Stat')\n",
    "plt.legend()\n",
    "plt.show()"
   ]
  },
  {
   "cell_type": "code",
   "execution_count": 34,
   "metadata": {},
   "outputs": [
    {
     "name": "stdout",
     "output_type": "stream",
     "text": [
      "SD = 22.4396333556\n"
     ]
    }
   ],
   "source": [
    "sd_kgof = kstein.compute_stat(dat)\n",
    "print(\"SD =\", sd_kgof)"
   ]
  },
  {
   "cell_type": "markdown",
   "metadata": {},
   "source": [
    "# Theano implementation\n",
    "by Aleksandar Botev"
   ]
  },
  {
   "cell_type": "code",
   "execution_count": 15,
   "metadata": {},
   "outputs": [],
   "source": [
    "import theano.tensor as T\n",
    "import theano\n",
    "from theano.gradient import disconnected_grad\n",
    "theano.config.floatX = \"float64\"\n",
    "theano.config.warn_float64 = \"ignore\"\n",
    "from scipy.stats import norm"
   ]
  },
  {
   "cell_type": "markdown",
   "metadata": {},
   "source": [
    "## Theano Gaussian pdf"
   ]
  },
  {
   "cell_type": "code",
   "execution_count": 22,
   "metadata": {},
   "outputs": [
    {
     "data": {
      "image/png": "[encoded data removed]",
      "text/plain": [
       "<matplotlib.figure.Figure at 0x7fe78d3e47f0>"
      ]
     },
     "metadata": {},
     "output_type": "display_data"
    }
   ],
   "source": [
    "def floatX(var):\n",
    "    return T.cast(var, theano.config.floatX)\n",
    "\n",
    "def log_pdf_isotropic_gaussian(x, mean, variance):\n",
    "    d = floatX(x.shape[1])\n",
    "    neg_log_pdf2 = T.sum((x - mean.dimshuffle('x', 0))**2, axis=1) / variance\n",
    "    neg_log_pdf2 += d * T.log(np.pi * 2.0)\n",
    "    neg_log_pdf2 += d * T.log(variance)\n",
    "    return - neg_log_pdf2 / 2.0\n",
    "\n",
    "def test_log_pdf():\n",
    "    x = np.linspace(np.pi - 4, np.pi + 4, 100).reshape((-1, 1))\n",
    "    mu = floatX(np.asarray([np.pi]))\n",
    "    var = floatX(np.asarray([2.0]))\n",
    "    pdf = T.exp(log_pdf_isotropic_gaussian(floatX(x), mu, var)).flatten().eval()\n",
    "    np_pdf = norm.pdf(x, np.pi, np.sqrt(2.0)).flatten()\n",
    "    plt.figure(figsize=(8, 6))\n",
    "    plt.plot(x, np_pdf - pdf, 'b')\n",
    "    plt.legend([\"$pdf_{scipy} - pdf_{Theano}$\"])\n",
    "    plt.show()\n",
    "\n",
    "test_log_pdf()"
   ]
  },
  {
   "cell_type": "markdown",
   "metadata": {},
   "source": [
    "## Function to calculate all pairwise distance in batch mode"
   ]
  },
  {
   "cell_type": "code",
   "execution_count": 28,
   "metadata": {},
   "outputs": [],
   "source": [
    "def squared_distance_matrix(x, y, return_dim3=True):\n",
    "    \"\"\"\n",
    "    Returns the matrix `M` of pairwise squared distance between x and y:\n",
    "    M_{i,j} = ||x_i - y_j||^2\n",
    "\n",
    "    If `x` or `y` are of rank 3 returns a batch of matrices.\n",
    "    This requires that x.shape[0] == y.shape[0].\n",
    "    \"\"\"\n",
    "    assert 1 < x.ndim < 4 and 1 < y.ndim < 4\n",
    "    dim2 = False\n",
    "    if x.ndim == y.ndim == 2:\n",
    "        x = T.reshape(x, (1, x.shape[0], x.shape[1]))\n",
    "        y = T.reshape(y, (1, y.shape[0], y.shape[1]))\n",
    "        dim2 = True\n",
    "    elif x.ndim == 2:\n",
    "        x = x.dimshyffle('x', 0, 1)\n",
    "    elif y.ndim == 2:\n",
    "        y = y.dimshyffle('x', 0, 1)\n",
    "\n",
    "    # A batch of collection of points\n",
    "    # B x Nx x Ny\n",
    "    x_t_y = T.batched_dot(x, y.dimshuffle(0, 2, 1))\n",
    "    # B x Nx\n",
    "    x_t_x = T.sum(x ** 2, axis=2).dimshuffle(0, 1, 'x')\n",
    "    # B x Ny\n",
    "    y_t_y = T.sum(y ** 2, axis=2).dimshuffle(0, 'x', 1)\n",
    "    # B x Nx x Ny\n",
    "    distances = x_t_x + y_t_y - 2 * x_t_y\n",
    "    if not return_dim3 and dim2:\n",
    "        return distances[0]\n",
    "    else:\n",
    "        return distances"
   ]
  },
  {
   "cell_type": "markdown",
   "metadata": {},
   "source": [
    "## Gaussian Kernel"
   ]
  },
  {
   "cell_type": "code",
   "execution_count": 29,
   "metadata": {},
   "outputs": [],
   "source": [
    "def rbf_kernel(x, y, h=\"auto\", single_h=True, max_h=100.0, get_hessian=False):\n",
    "    \"\"\"\n",
    "    Evaluates the Kernel matrix of an RBF kernel for a minibatch of\n",
    "    multiple sets of data points.\n",
    "\n",
    "    k(x,y) = exp(-||x-y||^2 / h)\n",
    "\n",
    "    :param x: Theano expression\n",
    "        Tensor of size (B x N x D) or (N x D)\n",
    "    :param y: Theano expression\n",
    "        Tensor of size (B x N x D) or (N x D)\n",
    "    :param h: Theano expression, float or \"auto\"\n",
    "        The width parameter of the kernel.\n",
    "        If \"auto\" uses the median trick. (Actually the mean of the medians across the batch).\n",
    "    :param single_h: bool\n",
    "        Whether to use single 'h' per the whole batch or a different for each slice.\n",
    "    :param max_h: Theano expression or float\n",
    "        An upper bound on h\n",
    "    :param get_hessian: bool\n",
    "        Whether to return hessian needed for Stein-Discrepancy\n",
    "    :return:\n",
    "        1. Tensor of size (B x N x N) representing the Kernel matrix.\n",
    "        2. An estimate of the log density via KDE.\n",
    "        3. An array containing only `h`.\n",
    "    \"\"\"\n",
    "    assert 1 < x.ndim < 4 and 1 < y.ndim < 4\n",
    "    # Calculate square distances\n",
    "    sqd = squared_distance_matrix(x, y)\n",
    "    # A batch of collection of points\n",
    "    b, nx, ny = sqd.shape\n",
    "\n",
    "    if h == \"auto\":\n",
    "        # The median trick\n",
    "        sorted_distances = T.sort(T.flatten(sqd, ndim=sqd.ndim-1))\n",
    "        middle = T.int_div(nx * ny, 2)\n",
    "        cond = T.mod(nx * ny, 2)\n",
    "        # Calculate medians per data point\n",
    "        med1 = (sorted_distances[:, middle] + sorted_distances[:, middle + 1]) / 2.0\n",
    "        med2 = sorted_distances[:, middle + 1]\n",
    "        if single_h:\n",
    "            # The same bandwidth for the whole batch - mean\n",
    "            med1 = T.mean(med1)\n",
    "            med2 = T.mean(med2)\n",
    "        med = T.switch(cond, med1, med2)\n",
    "        h = med / T.log(T.sqrt(floatX(nx * ny)) + 1.0)\n",
    "        h = T.minimum(h, max_h)\n",
    "    # Expanded h\n",
    "    h_e = h if single_h else h.dimshuffle(0, 'x', 'x')\n",
    "    if get_hessian:\n",
    "        h_e = disconnected_grad(h_e)\n",
    "    # The actual Kernel matrix\n",
    "    k = T.exp(- sqd / h_e)\n",
    "    # Normalization factor\n",
    "    log_z = (T.log(np.pi) + T.log(h)) * floatX(x.shape[-1]) / 2.0\n",
    "    # Expanded log_z\n",
    "    log_z_e = log_z if single_h else log_z.dimshuffle(0, 'x')\n",
    "    # Log KDE\n",
    "    log_kde = T.log(T.mean(k, axis=-1)) - log_z_e\n",
    "    if get_hessian:\n",
    "        hk = 2.0 * k * (floatX(x.shape[-1]) - 2.0 * sqd / h_e) / h_e\n",
    "        return k, hk, [h]\n",
    "    else:\n",
    "        return k, log_kde, [h]"
   ]
  },
  {
   "cell_type": "markdown",
   "metadata": {},
   "source": [
    "## Stein Discrepancy"
   ]
  },
  {
   "cell_type": "code",
   "execution_count": 37,
   "metadata": {},
   "outputs": [],
   "source": [
    "def stein_discrepancy(x, grad_x, biased, kernel, **k_args):\n",
    "    \"\"\" Assumes that the data is a 3D tensor for computing batches of SD \"\"\"\n",
    "    assert x.ndim == grad_x.ndim\n",
    "    if x.ndim == 2:\n",
    "        grad_x = T.reshape(grad_x, (1, x.shape[0], x.shape[1]))\n",
    "        x = T.reshape(x, (1, x.shape[0], x.shape[1]))\n",
    "        \n",
    "    # B x N x D\n",
    "    grad_x = disconnected_grad(grad_x)\n",
    "    b, n, d = x.shape\n",
    "    # N x N\n",
    "    mask = T.ones((n, n)) - T.eye(n)\n",
    "    n = floatX(n)\n",
    "    d = floatX(d)\n",
    "    # B x N x N, B x N x N, scalar\n",
    "    kxx, hk, params = kernel(x, x, get_hessian=True, **k_args)\n",
    "    # B x N x N\n",
    "    sx_sx = T.batched_dot(grad_x, grad_x.dimshuffle(0, 2, 1))\n",
    "    # A\n",
    "    if biased:\n",
    "        term1 = T.mean(kxx * sx_sx, axis=(1, 2))\n",
    "    else:\n",
    "        term1 = T.mean(kxx * sx_sx * mask.dimshuffle('x', 0, 1), axis=(1, 2))\n",
    "\n",
    "    # B\n",
    "    term2 = - T.mean(grad_x * T.grad(T.sum(kxx), x, consider_constant=params), axis=(1, 2)) / 2.0\n",
    "    term2 *= d / n\n",
    "    # C\n",
    "    term3 = term2\n",
    "    # D\n",
    "    if biased:\n",
    "        term4 = T.mean(hk, axis=(1, 2))\n",
    "    else:\n",
    "        term4 = T.mean(hk * mask.dimshuffle('x', 0, 1), axis=(1, 2))\n",
    "    sd = (term1 + term2 + term3 + term4)\n",
    "    if not biased:\n",
    "        sd *= n / (n - 1)\n",
    "    # sd = theano_print_values(sd, \"sd\")\n",
    "    return sd.mean()"
   ]
  },
  {
   "cell_type": "markdown",
   "metadata": {},
   "source": [
    "## Convert things to the Theano implementation"
   ]
  },
  {
   "cell_type": "code",
   "execution_count": 38,
   "metadata": {
    "scrolled": false
   },
   "outputs": [
    {
     "name": "stdout",
     "output_type": "stream",
     "text": [
      "(800, 15) (800, 15)\n"
     ]
    }
   ],
   "source": [
    "h = 2.0 * floatX(sig2)\n",
    "mu = floatX(mean)\n",
    "var = floatX(variance)\n",
    "x = floatX(dat.X)\n",
    "log_pdf = log_pdf_isotropic_gaussian(x, mu, var)\n",
    "grad_x = T.grad(T.sum(log_pdf), x)\n",
    "print(x.eval().shape, grad_x.eval().shape)"
   ]
  },
  {
   "cell_type": "markdown",
   "metadata": {},
   "source": [
    "## Computing Stein Discrepancy (Biased)"
   ]
  },
  {
   "cell_type": "code",
   "execution_count": 45,
   "metadata": {
    "scrolled": false
   },
   "outputs": [
    {
     "name": "stdout",
     "output_type": "stream",
     "text": [
      "Biased:\n",
      "Theano SD = 22.43963335559762\n",
      "Kgof SD = 22.4396333556\n",
      "Difference = -6.15330009168e-12\n",
      "Unbiased:\n",
      "Theano SD = 6.893681564697482\n",
      "Kgof SD = 22.4396333556\n",
      "Difference = -15.5459517909\n"
     ]
    }
   ],
   "source": [
    "sd_biased = stein_discrepancy(x, grad_x, True, rbf_kernel, h=h).eval()\n",
    "sd_unbiased = stein_discrepancy(x, grad_x, False, rbf_kernel, h=h).eval()\n",
    "sd_biased *= x.shape[0].eval()\n",
    "sd_unbiased *= x.shape[0].eval()\n",
    "print(\"Biased:\")\n",
    "print(\"Theano SD =\", sd_biased)\n",
    "print(\"Kgof SD =\", sd_kgof)\n",
    "print(\"Difference =\", sd_biased - sd_kgof)\n",
    "print(\"Unbiased:\")\n",
    "print(\"Theano SD =\", sd_unbiased)\n",
    "print(\"Kgof SD =\", sd_kgof)\n",
    "print(\"Difference =\", sd_unbiased - sd_kgof)"
   ]
  },
  {
   "cell_type": "markdown",
   "metadata": {},
   "source": [
    "## Test original implementation\n",
    "\n",
    "Original implementation of Chwialkowski et al., 2016"
   ]
  },
  {
   "cell_type": "code",
   "execution_count": null,
   "metadata": {},
   "outputs": [],
   "source": [
    "from scipy.spatial.distance import squareform, pdist\n",
    "\n",
    "def simulatepm(N, p_change):\n",
    "    '''\n",
    "\n",
    "    :param N:\n",
    "    :param p_change:\n",
    "    :return:\n",
    "    '''\n",
    "    X = np.zeros(N) - 1\n",
    "    change_sign = np.random.rand(N) < p_change\n",
    "    for i in range(N):\n",
    "        if change_sign[i]:\n",
    "            X[i] = -X[i - 1]\n",
    "        else:\n",
    "            X[i] = X[i - 1]\n",
    "    return X\n",
    "\n",
    "\n",
    "class _GoodnessOfFitTest:\n",
    "    def __init__(self, grad_log_prob, scaling=1):\n",
    "        #scaling is the sigma^2 as in exp(-|x_y|^2/2*sigma^2)\n",
    "        self.scaling = scaling*2\n",
    "        self.grad = grad_log_prob\n",
    "        # construct (slow) multiple gradient handle if efficient one is not given\n",
    "        \n",
    "\n",
    "    def grad_multiple(self, X):\n",
    "        #print self.grad\n",
    "        return np.array([(self.grad)(x) for x in X])\n",
    "    \n",
    "    def kernel_matrix(self, X):\n",
    "\n",
    "        # check for stupid mistake\n",
    "        assert X.shape[0] > X.shape[1]\n",
    "\n",
    "        sq_dists = squareform(pdist(X, 'sqeuclidean'))\n",
    "\n",
    "        K = np.exp(-sq_dists/ self.scaling)\n",
    "        return K\n",
    "\n",
    "    def gradient_k_wrt_x(self, X, K, dim):\n",
    "\n",
    "        X_dim = X[:, dim]\n",
    "        assert X_dim.ndim == 1\n",
    "\n",
    "        differences = X_dim.reshape(len(X_dim), 1) - X_dim.reshape(1, len(X_dim))\n",
    "\n",
    "        return -2.0 / self.scaling * K * differences\n",
    "\n",
    "    def gradient_k_wrt_y(self, X, K, dim):\n",
    "        return -self.gradient_k_wrt_x(X, K, dim)\n",
    "\n",
    "    def second_derivative_k(self, X, K, dim):\n",
    "        X_dim = X[:, dim]\n",
    "        assert X_dim.ndim == 1\n",
    "\n",
    "        differences = X_dim.reshape(len(X_dim), 1) - X_dim.reshape(1, len(X_dim))\n",
    "\n",
    "        sq_differences = differences ** 2\n",
    "\n",
    "        return 2.0 * K * (self.scaling - 2 * sq_differences) / self.scaling ** 2\n",
    "\n",
    "    def get_statistic_multiple_dim(self, samples, dim):\n",
    "        num_samples = len(samples)\n",
    "\n",
    "        log_pdf_gradients = self.grad_multiple(samples)\n",
    "        # n x 1\n",
    "        log_pdf_gradients = log_pdf_gradients[:, dim]\n",
    "        # n x n\n",
    "        K = self.kernel_matrix(samples)\n",
    "        assert K.shape[0]==K.shape[1]\n",
    "        # n x n\n",
    "        gradient_k_x = self.gradient_k_wrt_x(samples, K, dim)\n",
    "        assert gradient_k_x.shape[0] == gradient_k_x.shape[1]\n",
    "        # n x n\n",
    "        gradient_k_y = self.gradient_k_wrt_y(samples, K, dim)\n",
    "        # n x n \n",
    "        second_derivative = self.second_derivative_k(samples, K, dim)\n",
    "        assert second_derivative.shape[0] == second_derivative.shape[1]\n",
    "\n",
    "        # use broadcasting to mimic the element wise looped call\n",
    "        pairwise_log_gradients = log_pdf_gradients.reshape(num_samples, 1) \\\n",
    "                                 * log_pdf_gradients.reshape(1, num_samples)\n",
    "        A = pairwise_log_gradients * K\n",
    "\n",
    "        B = gradient_k_x * log_pdf_gradients\n",
    "        C = (gradient_k_y.T * log_pdf_gradients).T\n",
    "        D = second_derivative\n",
    "\n",
    "        V_statistic = A + B + C + D\n",
    "        #V_statistic =  C\n",
    "\n",
    "        stat = num_samples * np.mean(V_statistic)\n",
    "        return V_statistic, stat\n",
    "\n",
    "    def compute_pvalues_for_processes(self, U_matrix, chane_prob, num_bootstrapped_stats=300):\n",
    "        N = U_matrix.shape[0]\n",
    "        bootsraped_stats = np.zeros(num_bootstrapped_stats)\n",
    "\n",
    "        with util.NumpySeedContext(seed=10):\n",
    "            for proc in range(num_bootstrapped_stats):\n",
    "                # W = np.sign(orsetinW[:,proc])\n",
    "                W = simulatepm(N, chane_prob)\n",
    "                WW = np.outer(W, W)\n",
    "                st = np.mean(U_matrix * WW)\n",
    "                bootsraped_stats[proc] = N * st\n",
    "\n",
    "        stat = N * np.mean(U_matrix)\n",
    "\n",
    "        return float(np.sum(bootsraped_stats > stat)) / num_bootstrapped_stats\n",
    "\n",
    "    def is_from_null(self, alpha, samples, chane_prob):\n",
    "        dims = samples.shape[1]\n",
    "        boots = 10 * int(dims / alpha)\n",
    "        num_samples = samples.shape[0]\n",
    "        U = np.zeros((num_samples, num_samples))\n",
    "        for dim in range(dims):\n",
    "            U2, _ = self.get_statistic_multiple_dim(samples, dim)\n",
    "            U += U2\n",
    "\n",
    "        p = self.compute_pvalues_for_processes(U, chane_prob, boots)\n",
    "        return p, U\n",
    " \n"
   ]
  },
  {
   "cell_type": "code",
   "execution_count": null,
   "metadata": {
    "scrolled": true
   },
   "outputs": [],
   "source": [
    "#sigma = np.array([[1, 0.2, 0.1], [0.2, 1, 0.4], [0.1, 0.4, 1]])\n",
    "def grad_log_correleted(x):\n",
    "    #sigmaInv = np.linalg.inv(sigma)\n",
    "    #return - np.dot(sigmaInv.T + sigmaInv, x) / 2.0\n",
    "    return -(x-mean)/variance\n",
    "\n",
    "#me = _GoodnessOfFitTest(grad_log_correleted)\n",
    "\n",
    "qm = _GoodnessOfFitTest(grad_log_correleted, scaling=sig2)\n",
    "#X = np.random.multivariate_normal([0, 0, 0], sigma, 200)\n",
    "\n",
    "p_val, U = qm.is_from_null(0.05, X, 0.1)\n",
    "print(p_val)\n"
   ]
  },
  {
   "cell_type": "code",
   "execution_count": null,
   "metadata": {
    "scrolled": true
   },
   "outputs": [],
   "source": [
    "plt.imshow(U, interpolation='none')\n",
    "plt.colorbar()"
   ]
  },
  {
   "cell_type": "code",
   "execution_count": null,
   "metadata": {},
   "outputs": [],
   "source": [
    "# U-statistic matrix from the new implementation\n",
    "H = kstein_result['H']\n",
    "plt.imshow(H, interpolation='none')\n",
    "plt.colorbar()"
   ]
  },
  {
   "cell_type": "code",
   "execution_count": null,
   "metadata": {},
   "outputs": [],
   "source": [
    "plt.imshow(U-H, interpolation='none')\n",
    "plt.colorbar()"
   ]
  },
  {
   "cell_type": "markdown",
   "metadata": {},
   "source": [
    "### "
   ]
  },
  {
   "cell_type": "code",
   "execution_count": null,
   "metadata": {},
   "outputs": [],
   "source": [
    "x = np.random.randint(1, 5, 5)\n",
    "y = np.random.randint(1, 3, 3)"
   ]
  },
  {
   "cell_type": "code",
   "execution_count": null,
   "metadata": {},
   "outputs": [],
   "source": [
    "x"
   ]
  },
  {
   "cell_type": "code",
   "execution_count": null,
   "metadata": {},
   "outputs": [],
   "source": [
    "y"
   ]
  },
  {
   "cell_type": "code",
   "execution_count": null,
   "metadata": {},
   "outputs": [],
   "source": [
    "x[:, np.newaxis] - y[np.newaxis, :]"
   ]
  },
  {
   "cell_type": "code",
   "execution_count": null,
   "metadata": {},
   "outputs": [],
   "source": []
  },
  {
   "cell_type": "code",
   "execution_count": null,
   "metadata": {},
   "outputs": [],
   "source": []
  },
  {
   "cell_type": "code",
   "execution_count": null,
   "metadata": {},
   "outputs": [],
   "source": []
  }
 ],
 "metadata": {
  "kernelspec": {
   "display_name": "Python 3",
   "language": "python",
   "name": "python3"
  },
  "language_info": {
   "codemirror_mode": {
    "name": "ipython",
    "version": 3
   },
   "file_extension": ".py",
   "mimetype": "text/x-python",
   "name": "python",
   "nbconvert_exporter": "python",
   "pygments_lexer": "ipython3",
   "version": "3.6.3"
  }
 },
 "nbformat": 4,
 "nbformat_minor": 1
}
